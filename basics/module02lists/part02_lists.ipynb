{
 "cells": [
  {
   "cell_type": "code",
   "execution_count": 37,
   "id": "initial_id",
   "metadata": {
    "collapsed": true,
    "ExecuteTime": {
     "end_time": "2024-02-27T14:30:26.001716Z",
     "start_time": "2024-02-27T14:30:25.990573Z"
    }
   },
   "outputs": [
    {
     "name": "stdout",
     "output_type": "stream",
     "text": [
      "[1, 2, 3, 4, 5, 6, 7, 8, 9, 10]\n",
      "False\n",
      "1\n",
      "7\n",
      "3\n",
      "None\n",
      "[1, 2, 4, 5, 6, 7, 8, 9, 10]\n",
      "6\n",
      "[1, 2, 4, 5, 7, 8, 9, 10]\n",
      "[1, 4, 5, 7, 8, 9, 10]\n",
      "[1, 4, 9, 10]\n",
      "10\n",
      "1\n",
      "24\n",
      "[1, 4, 9, 10]\n",
      "[10, 9, 4, 1]\n"
     ]
    }
   ],
   "source": [
    "# simple list\n",
    "numbers = [1, 2, 3, 4, 5, 6, 7, 8, 9]\n",
    "numbers.append(10)\n",
    "print(numbers)\n",
    "print(6 not in numbers)\n",
    "print(numbers.count(9))\n",
    "print(numbers.index(8))\n",
    "print(numbers.index(4, 2, 6))\n",
    "print(numbers.remove(3)) \n",
    "print(numbers)\n",
    "print(numbers.pop(4)) \n",
    "print(numbers)\n",
    "del numbers[1]\n",
    "print(numbers)\n",
    "del numbers[2:5] # 5 is exclusive\n",
    "print(numbers)\n",
    "print(max(numbers)) # will work only with similar parameter\n",
    "print(min(numbers)) # will work only with similar parameter\n",
    "print(sum(numbers)) # will work only with numeric types\n",
    "numbers.sort()\n",
    "print(numbers)\n",
    "numbers.reverse()\n",
    "print(numbers)"
   ]
  },
  {
   "cell_type": "code",
   "outputs": [],
   "source": [
    "# some more operations #"
   ],
   "metadata": {
    "collapsed": false,
    "ExecuteTime": {
     "end_time": "2024-02-27T14:30:26.002031Z",
     "start_time": "2024-02-27T14:30:25.995566Z"
    }
   },
   "id": "742e72bf8121c7ec",
   "execution_count": 38
  },
  {
   "cell_type": "code",
   "outputs": [
    {
     "name": "stdout",
     "output_type": "stream",
     "text": [
      "25.0\n"
     ]
    }
   ],
   "source": [
    "# Average of a list\n",
    "l = [10, 20, 30, 40]\n",
    "print(sum(l) / len(l))"
   ],
   "metadata": {
    "collapsed": false,
    "ExecuteTime": {
     "end_time": "2024-02-27T14:30:26.002405Z",
     "start_time": "2024-02-27T14:30:26.000050Z"
    }
   },
   "id": "2661ba67f952d6f4",
   "execution_count": 39
  },
  {
   "cell_type": "code",
   "outputs": [
    {
     "name": "stdout",
     "output_type": "stream",
     "text": [
      "[10, 12, 14]\n",
      "[11, 13, 15]\n"
     ]
    }
   ],
   "source": [
    "# separate Even and Odd\n",
    "l = [10, 11, 12, 13, 14, 15]\n",
    "even = [i for i in l if i%2 == 0]\n",
    "odd = [i for i in l if i%2 == 1]\n",
    "print(even)\n",
    "print(odd)"
   ],
   "metadata": {
    "collapsed": false,
    "ExecuteTime": {
     "end_time": "2024-02-27T14:30:26.005476Z",
     "start_time": "2024-02-27T14:30:26.002160Z"
    }
   },
   "id": "d8fc455a9e595dbc",
   "execution_count": 40
  },
  {
   "cell_type": "code",
   "outputs": [
    {
     "name": "stdout",
     "output_type": "stream",
     "text": [
      "[10, 11, 12]\n"
     ]
    }
   ],
   "source": [
    "# Get smaller elements than the given element in a list\n",
    "def get_smaller(input_list, x):\n",
    "    res = []\n",
    "    for i in input_list:\n",
    "        if i < x:\n",
    "            res.append(i)\n",
    "    return res\n",
    "\n",
    "l = [10, 11, 12, 13, 14, 15]\n",
    "\n",
    "print(get_smaller(l, 13))"
   ],
   "metadata": {
    "collapsed": false,
    "ExecuteTime": {
     "end_time": "2024-02-27T14:30:26.010913Z",
     "start_time": "2024-02-27T14:30:26.005224Z"
    }
   },
   "id": "51dfb7a772ffae47",
   "execution_count": 41
  },
  {
   "cell_type": "code",
   "outputs": [
    {
     "name": "stdout",
     "output_type": "stream",
     "text": [
      "[10, 12, 14]\n",
      "[10, 11, 12, 13]\n",
      "[14, 13, 12, 11]\n",
      "[15, 14, 13]\n"
     ]
    }
   ],
   "source": [
    "# slicing \n",
    "l = [10, 11, 12, 13, 14, 15]\n",
    "print(l[0:5:2])\n",
    "print(l[:4])\n",
    "# traversing from end\n",
    "print(l[4:0:-1])\n",
    "print(l[-1:-4:-1])"
   ],
   "metadata": {
    "collapsed": false,
    "ExecuteTime": {
     "end_time": "2024-02-27T14:30:26.011391Z",
     "start_time": "2024-02-27T14:30:26.008082Z"
    }
   },
   "id": "e733fc2671b6838e",
   "execution_count": 42
  },
  {
   "cell_type": "code",
   "outputs": [
    {
     "name": "stdout",
     "output_type": "stream",
     "text": [
      "[10, 11, 12, 13]\n"
     ]
    }
   ],
   "source": [
    "# List comprehension\n",
    "l = [10, 11, 12, 13, 14, 15]\n",
    "# get smaller elements of 14 using list comprehension\n",
    "result = [i for i in l if i < 14]\n",
    "print(result)"
   ],
   "metadata": {
    "collapsed": false,
    "ExecuteTime": {
     "end_time": "2024-02-27T14:30:26.013411Z",
     "start_time": "2024-02-27T14:30:26.010349Z"
    }
   },
   "id": "a75cd40b0d7215ed",
   "execution_count": 43
  },
  {
   "cell_type": "code",
   "outputs": [
    {
     "name": "stdout",
     "output_type": "stream",
     "text": [
      "['e', 'e', 'o', 'e', 'e']\n"
     ]
    }
   ],
   "source": [
    "# get the vowels in string\n",
    "s = 'geeksforgeeks'\n",
    "l1 = [x for x in s if x in 'aeiou']\n",
    "print(l1)"
   ],
   "metadata": {
    "collapsed": false,
    "ExecuteTime": {
     "end_time": "2024-02-27T14:30:26.048983Z",
     "start_time": "2024-02-27T14:30:26.013345Z"
    }
   },
   "id": "aba2787d2e249af",
   "execution_count": 44
  },
  {
   "cell_type": "code",
   "outputs": [
    {
     "name": "stdout",
     "output_type": "stream",
     "text": [
      "20\n",
      "None\n"
     ]
    }
   ],
   "source": [
    "# Largest element in a list\n",
    "\n",
    "# we can use max() method but here is a custom method with single navigation to the ist\n",
    "def max_element_list(l):\n",
    "    # base case\n",
    "    if not l: return None\n",
    "    max_element = 0\n",
    "    for x in l:\n",
    "        if x > max_element:\n",
    "            max_element = x\n",
    "    return max_element\n",
    "\n",
    "l = [10, 5, 20, 9]\n",
    "print(max_element_list(l))\n",
    "l1 = []\n",
    "print(max_element_list(l1))"
   ],
   "metadata": {
    "collapsed": false,
    "ExecuteTime": {
     "end_time": "2024-02-27T14:30:26.049675Z",
     "start_time": "2024-02-27T14:30:26.016467Z"
    }
   },
   "id": "6a2cce59d81ae7c6",
   "execution_count": 45
  },
  {
   "cell_type": "code",
   "outputs": [
    {
     "name": "stdout",
     "output_type": "stream",
     "text": [
      "10\n"
     ]
    }
   ],
   "source": [
    "# Prob - Find second-largest integer in the list\n",
    "l1 = [10, 5, 20, 9]\n",
    "\n",
    "def second_max_element_list(input_list):\n",
    "    if len(input_list) <= 1:\n",
    "        return None\n",
    "    largest_element = input_list[0]\n",
    "    second_largest_element = None\n",
    "    \n",
    "    # loop through items from second element\n",
    "    for x in l[1:]:\n",
    "        if x > largest_element:\n",
    "            second_largest_element = largest_element\n",
    "            largest_element = x\n",
    "        elif x != largest_element:\n",
    "            if second_largest_element is None or second_largest_element < x:\n",
    "                second_largest_element = x\n",
    "                \n",
    "    return second_largest_element\n",
    "\n",
    "print(second_max_element_list(l1))"
   ],
   "metadata": {
    "collapsed": false,
    "ExecuteTime": {
     "end_time": "2024-02-27T14:30:26.050242Z",
     "start_time": "2024-02-27T14:30:26.020804Z"
    }
   },
   "id": "80e1b127b72119a5",
   "execution_count": 46
  },
  {
   "cell_type": "code",
   "outputs": [
    {
     "name": "stdout",
     "output_type": "stream",
     "text": [
      "True\n"
     ]
    }
   ],
   "source": [
    "# Prob - Check if a list is sorted\n",
    "\n",
    "def is_sorted(input_list) -> bool:\n",
    "    return input_list == sorted(input_list) # sorted will create a new list\n",
    "\n",
    "sorted_list = [2,3,4,67,89]\n",
    "print(is_sorted(sorted_list))"
   ],
   "metadata": {
    "collapsed": false,
    "ExecuteTime": {
     "end_time": "2024-02-27T14:30:26.050516Z",
     "start_time": "2024-02-27T14:30:26.023518Z"
    }
   },
   "id": "a5fff96cb86b6d58",
   "execution_count": 47
  },
  {
   "cell_type": "code",
   "outputs": [
    {
     "name": "stdout",
     "output_type": "stream",
     "text": [
      "[89, 67, 4, 3, 2]\n"
     ]
    }
   ],
   "source": [
    "# Prob - Reverse the given list\n",
    "# can be done with list(reversed(list))\n",
    "def reverse_list(input_list):\n",
    "    start = 0\n",
    "    end = len(input_list) - 1\n",
    "    while start <= end:\n",
    "        input_list[start], input_list[end] = input_list[end], input_list[start]\n",
    "        start += 1\n",
    "        end -= 1\n",
    "\n",
    "input_list = [2,3,4,67,89]\n",
    "reverse_list(input_list)\n",
    "print(input_list)"
   ],
   "metadata": {
    "collapsed": false,
    "ExecuteTime": {
     "end_time": "2024-02-27T14:30:26.050803Z",
     "start_time": "2024-02-27T14:30:26.026174Z"
    }
   },
   "id": "10171e7516a5de1f",
   "execution_count": 48
  },
  {
   "cell_type": "code",
   "outputs": [
    {
     "name": "stdout",
     "output_type": "stream",
     "text": [
      "[10, 20, 30]\n"
     ]
    }
   ],
   "source": [
    "# Prob - Remove duplicates from a sorted array\n",
    "# Naive approach - create a temp array and copy the distinct element to the temp array\n",
    "def remove_duplicates(input_list):\n",
    "    res = 1\n",
    "    n = len(input_list)\n",
    "    for i in range(1, n):\n",
    "        if input_list[i-1] != input_list[i]:\n",
    "            input_list[res] = input_list[i]\n",
    "            res += 1\n",
    "    return input_list[:res]\n",
    "\n",
    "print(remove_duplicates(input_list = [10, 20, 20, 30, 30, 30, 30]))"
   ],
   "metadata": {
    "collapsed": false,
    "ExecuteTime": {
     "end_time": "2024-02-27T14:30:26.051103Z",
     "start_time": "2024-02-27T14:30:26.029373Z"
    }
   },
   "id": "2d4848f333b437c6",
   "execution_count": 49
  },
  {
   "cell_type": "code",
   "outputs": [
    {
     "name": "stdout",
     "output_type": "stream",
     "text": [
      "[3, 4, 67, 89, 2]\n"
     ]
    }
   ],
   "source": [
    "# Prob - Left Rotate a List by One\n",
    "from typing import List\n",
    "def left_rotate(input_list: List[int]) -> None:\n",
    "    first = input_list.pop(0)\n",
    "    input_list.append(first)\n",
    "    print(input_list)\n",
    "    \n",
    "left_rotate(input_list = [2,3,4,67,89])"
   ],
   "metadata": {
    "collapsed": false,
    "ExecuteTime": {
     "end_time": "2024-02-27T14:30:26.051396Z",
     "start_time": "2024-02-27T14:30:26.032084Z"
    }
   },
   "id": "dd11950c0d7c03be",
   "execution_count": 50
  }
 ],
 "metadata": {
  "kernelspec": {
   "display_name": "Python 3",
   "language": "python",
   "name": "python3"
  },
  "language_info": {
   "codemirror_mode": {
    "name": "ipython",
    "version": 2
   },
   "file_extension": ".py",
   "mimetype": "text/x-python",
   "name": "python",
   "nbconvert_exporter": "python",
   "pygments_lexer": "ipython2",
   "version": "2.7.6"
  }
 },
 "nbformat": 4,
 "nbformat_minor": 5
}
