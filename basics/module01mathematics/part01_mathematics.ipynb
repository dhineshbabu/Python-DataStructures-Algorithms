{
 "cells": [
  {
   "cell_type": "code",
   "execution_count": 7,
   "id": "initial_id",
   "metadata": {
    "collapsed": true,
    "ExecuteTime": {
     "end_time": "2024-02-26T23:49:32.375019Z",
     "start_time": "2024-02-26T23:49:32.369967Z"
    }
   },
   "outputs": [
    {
     "name": "stdout",
     "output_type": "stream",
     "text": [
      "Sum is 55.0\n"
     ]
    }
   ],
   "source": [
    "# sum of n natural numbers\n",
    "def sum_numbers(n):\n",
    "    sum_: int = n * (n+1) / 2\n",
    "    print(f'Sum is {sum_}')\n",
    "    \n",
    "sum_numbers(10)"
   ]
  },
  {
   "cell_type": "code",
   "outputs": [
    {
     "name": "stdout",
     "output_type": "stream",
     "text": [
      "The count is 4\n"
     ]
    }
   ],
   "source": [
    "# count number of digits in a given number\n",
    "\n",
    "def get_digits(x):\n",
    "    count = 0\n",
    "    while x > 0:\n",
    "        x = x // 10 # integer division\n",
    "        count += 1 # increment the digit count\n",
    "    print(f'The count is {count}')\n",
    "    \n",
    "get_digits(7253)"
   ],
   "metadata": {
    "collapsed": false,
    "ExecuteTime": {
     "end_time": "2024-02-26T23:33:41.964463Z",
     "start_time": "2024-02-26T23:33:41.959408Z"
    }
   },
   "id": "f8b2e8c00c1db543",
   "execution_count": 3
  },
  {
   "cell_type": "code",
   "outputs": [
    {
     "name": "stdout",
     "output_type": "stream",
     "text": [
      "True\n"
     ]
    }
   ],
   "source": [
    "# Palindrome Number\n",
    "\n",
    "def is_palindrome(n):\n",
    "    reverse = 0\n",
    "    temp = n\n",
    "    \n",
    "    while temp != 0:\n",
    "        last_digit = temp % 10\n",
    "        reverse = reverse * 10 + last_digit\n",
    "        temp  = temp // 10\n",
    "        \n",
    "    return reverse == n # checking if the reversed and the actual number is the same then it is a palindrome\n",
    "\n",
    "print(is_palindrome(5698965))\n",
    "\n",
    "    "
   ],
   "metadata": {
    "collapsed": false,
    "ExecuteTime": {
     "end_time": "2024-02-26T23:39:58.489310Z",
     "start_time": "2024-02-26T23:39:58.486100Z"
    }
   },
   "id": "2d71c3167ac6e779",
   "execution_count": 4
  },
  {
   "cell_type": "code",
   "outputs": [
    {
     "name": "stdout",
     "output_type": "stream",
     "text": [
      "120\n"
     ]
    }
   ],
   "source": [
    "# Factorial of a given number\n",
    "# time complexity: T(n) = T(n-1) + θ(1)\n",
    "# space complexity: θ(n)\n",
    "\n",
    "def factorial(n):\n",
    "    # base case\n",
    "    if n == 0: return 1\n",
    "    \n",
    "    return n * factorial(n-1) # recursion \n",
    "\n",
    "print(factorial(5))"
   ],
   "metadata": {
    "collapsed": false,
    "ExecuteTime": {
     "end_time": "2024-02-26T23:47:13.324379Z",
     "start_time": "2024-02-26T23:47:13.321685Z"
    }
   },
   "id": "5608365876dc5328",
   "execution_count": 5
  },
  {
   "cell_type": "code",
   "outputs": [
    {
     "name": "stdout",
     "output_type": "stream",
     "text": [
      "3\n"
     ]
    }
   ],
   "source": [
    "# GCD or HCF of two numbers\n",
    "# Euclidean Algorithm\n",
    "\n",
    "def gdc(a, b) -> int:\n",
    "    \n",
    "    while a != b:\n",
    "        if a > b: a = a - b\n",
    "        else: b = b - a\n",
    "    \n",
    "    return a\n",
    "\n",
    "print(gdc(15, 12))"
   ],
   "metadata": {
    "collapsed": false,
    "ExecuteTime": {
     "end_time": "2024-02-27T00:02:44.571750Z",
     "start_time": "2024-02-27T00:02:44.568427Z"
    }
   },
   "id": "694186de5b659b44",
   "execution_count": 8
  },
  {
   "cell_type": "code",
   "outputs": [
    {
     "name": "stdout",
     "output_type": "stream",
     "text": [
      "3\n"
     ]
    }
   ],
   "source": [
    "# above algorithm using recursion\n",
    "def gcd(a, b) -> int:\n",
    "    \n",
    "    # base case\n",
    "    if b == 0:\n",
    "        return a\n",
    "    \n",
    "    # recursive case\n",
    "    return gcd(b, a%b)\n",
    "\n",
    "print(gcd(15, 12))"
   ],
   "metadata": {
    "collapsed": false,
    "ExecuteTime": {
     "end_time": "2024-02-27T00:04:13.532639Z",
     "start_time": "2024-02-27T00:04:13.524908Z"
    }
   },
   "id": "57d88bd80a4ab473",
   "execution_count": 10
  },
  {
   "cell_type": "code",
   "outputs": [
    {
     "name": "stdout",
     "output_type": "stream",
     "text": [
      "60\n"
     ]
    }
   ],
   "source": [
    "# LCM of 2 numbers\n",
    "\n",
    "def lcm(a, b) -> int:\n",
    "    # take the maximum to the res variable\n",
    "    res = max(a, b)\n",
    "    \n",
    "    while True:\n",
    "        if res % a == 0 and res % b == 0:\n",
    "            return res\n",
    "        \n",
    "        res += 1\n",
    "    \n",
    "    return res\n",
    "\n",
    "\n",
    "print(lcm(15, 12))"
   ],
   "metadata": {
    "collapsed": false,
    "ExecuteTime": {
     "end_time": "2024-02-27T00:11:20.862365Z",
     "start_time": "2024-02-27T00:11:20.858229Z"
    }
   },
   "id": "7eefa888a3831ac7",
   "execution_count": 11
  },
  {
   "cell_type": "code",
   "outputs": [
    {
     "name": "stdout",
     "output_type": "stream",
     "text": [
      "60\n"
     ]
    }
   ],
   "source": [
    "# Efficient way for LCM is to use the Euclidean formula again\n",
    "# a*b = gcd(a*b) * lcm(a*b)\n",
    "# so LCM = (a*b) // gcd(a, b)\n",
    "# Time complexity : θ(log(min(a,b))\n",
    "\n",
    "def lcm(a, b) -> int:\n",
    "    return a * b // gcd(a, b)\n",
    "\n",
    "print(lcm(15, 12))"
   ],
   "metadata": {
    "collapsed": false,
    "ExecuteTime": {
     "end_time": "2024-02-27T00:17:17.680273Z",
     "start_time": "2024-02-27T00:17:17.672843Z"
    }
   },
   "id": "9015c2c97d11514b",
   "execution_count": 13
  },
  {
   "cell_type": "code",
   "outputs": [],
   "source": [
    "######### Check for prime number #########"
   ],
   "metadata": {
    "collapsed": false
   },
   "id": "42771191ea7dcc1b"
  },
  {
   "cell_type": "code",
   "outputs": [
    {
     "name": "stdout",
     "output_type": "stream",
     "text": [
      "True\n"
     ]
    }
   ],
   "source": [
    "# Naive approach\n",
    "def is_prime(n: int) -> bool:\n",
    "    # base case\n",
    "    if n <= 1: return False\n",
    "    \n",
    "    for i in range(2, n):\n",
    "        if n % i == 0: return False\n",
    "        \n",
    "    return True\n",
    "\n",
    "print(is_prime(23))"
   ],
   "metadata": {
    "collapsed": false,
    "ExecuteTime": {
     "end_time": "2024-02-27T01:11:55.050941Z",
     "start_time": "2024-02-27T01:11:55.046202Z"
    }
   },
   "id": "4998fb0eef04357c",
   "execution_count": 14
  },
  {
   "cell_type": "code",
   "outputs": [
    {
     "name": "stdout",
     "output_type": "stream",
     "text": [
      "True\n"
     ]
    }
   ],
   "source": [
    "# Optimized approach\n",
    "def is_prime(n: int) -> bool:\n",
    "    # base case\n",
    "    if n <= 1: return False\n",
    "    \n",
    "    i = 2\n",
    "    # check until the square root of the given number is prime\n",
    "    while i*i <= n: \n",
    "        if n%i == 0: \n",
    "            return False\n",
    "        i += 1\n",
    "        \n",
    "    return True\n",
    "\n",
    "print(is_prime(23))"
   ],
   "metadata": {
    "collapsed": false,
    "ExecuteTime": {
     "end_time": "2024-02-27T01:17:21.730998Z",
     "start_time": "2024-02-27T01:17:21.726769Z"
    }
   },
   "id": "2498dc2bd046c32f",
   "execution_count": 15
  },
  {
   "cell_type": "code",
   "outputs": [
    {
     "name": "stdout",
     "output_type": "stream",
     "text": [
      "True\n"
     ]
    }
   ],
   "source": [
    "# Efficient approach\n",
    "def is_prime(n: int) -> bool:\n",
    "    # Check if the number is less than or equal to 1, if so, it's not a prime number\n",
    "    if n <= 1: return False\n",
    "    \n",
    "    # Directly return True for 2 and 3, which are prime numbers\n",
    "    if n == 2 or n == 3: return True\n",
    "    \n",
    "    # If the number is divisible by 2 or 3, it's not a prime number\n",
    "    if n % 2 == 0 or n % 3 == 0: return False\n",
    "    \n",
    "    # Initialize i to 5, starting point to check for factors beyond 2 and 3\n",
    "    i = 5\n",
    "    \n",
    "    # Only check for factors up to the square root of n\n",
    "    while i*i <= n:\n",
    "        # If n is divisible by i or i+2, n is not a prime number\n",
    "        # This checks against numbers of the form 6k ± 1\n",
    "        if n % i == 0 or n % (i+2) == 0: return False\n",
    "        # Increment i by 6 to check the next potential factor\n",
    "        i += 6\n",
    "        \n",
    "    # If no factors were found, n is a prime number\n",
    "    return True\n",
    "\n",
    "\n",
    "print(is_prime(23))"
   ],
   "metadata": {
    "collapsed": false,
    "ExecuteTime": {
     "end_time": "2024-02-27T01:23:32.347623Z",
     "start_time": "2024-02-27T01:23:32.343925Z"
    }
   },
   "id": "bca45f33327ba67b",
   "execution_count": 16
  },
  {
   "cell_type": "code",
   "outputs": [],
   "source": [
    "######## Prime Factorization #######"
   ],
   "metadata": {
    "collapsed": false
   },
   "id": "e0a8b18520b1c4e1"
  },
  {
   "cell_type": "code",
   "outputs": [
    {
     "name": "stdout",
     "output_type": "stream",
     "text": [
      "2 2 5 5 "
     ]
    }
   ],
   "source": [
    "def prime_factors(n: int) -> None:\n",
    "    for i in range(2, n+1):\n",
    "        if is_prime(i):\n",
    "            x = i\n",
    "            while n % x == 0:\n",
    "                print(i, end=\" \")\n",
    "                x = x * i\n",
    "                \n",
    "prime_factors(100)"
   ],
   "metadata": {
    "collapsed": false,
    "ExecuteTime": {
     "end_time": "2024-02-27T01:38:36.003752Z",
     "start_time": "2024-02-27T01:38:35.996366Z"
    }
   },
   "id": "71d63b5d3f0da3a8",
   "execution_count": 20
  },
  {
   "cell_type": "code",
   "outputs": [],
   "source": [
    "######### Print all the divisors of the given number ##########"
   ],
   "metadata": {
    "collapsed": false
   },
   "id": "a9499031ef2b561f"
  },
  {
   "cell_type": "code",
   "outputs": [
    {
     "name": "stdout",
     "output_type": "stream",
     "text": [
      "1\n",
      "25.0\n",
      "5\n"
     ]
    }
   ],
   "source": [
    "def print_divisors(n: int) -> None:\n",
    "    i = 1\n",
    "    while i*i <= n:\n",
    "        if n % i == 0:\n",
    "            print(i)\n",
    "            if i != n/i:\n",
    "                print(n / i)\n",
    "        i += 1\n",
    "        \n",
    "        \n",
    "print_divisors(25)\n",
    "# Time : θ(N^(1/2))\n",
    "# Space: O(1)"
   ],
   "metadata": {
    "collapsed": false,
    "ExecuteTime": {
     "end_time": "2024-02-27T01:50:14.609303Z",
     "start_time": "2024-02-27T01:50:14.594292Z"
    }
   },
   "id": "20d5af5e667dcb98",
   "execution_count": 22
  },
  {
   "cell_type": "code",
   "outputs": [],
   "source": [
    "##### Below code will print all the divisors in increasing order. Above code will not maintain order"
   ],
   "metadata": {
    "collapsed": false
   },
   "id": "e42c415113a91618"
  },
  {
   "cell_type": "code",
   "outputs": [
    {
     "name": "stdout",
     "output_type": "stream",
     "text": [
      "1\n",
      "5\n",
      "5.0\n",
      "25.0\n"
     ]
    }
   ],
   "source": [
    "def print_divisors(n: int) -> None:\n",
    "    i = 1\n",
    "    while i*i <= n:\n",
    "        if n % i == 0:\n",
    "            print(i)\n",
    "        i += 1\n",
    "        \n",
    "    # another loop to print in reverse\n",
    "    while i >= 1:\n",
    "        if n%i == 0:\n",
    "            print(n / i)\n",
    "        i -= 1\n",
    "        \n",
    "        \n",
    "print_divisors(25)"
   ],
   "metadata": {
    "collapsed": false,
    "ExecuteTime": {
     "end_time": "2024-02-27T01:56:17.204112Z",
     "start_time": "2024-02-27T01:56:17.193702Z"
    }
   },
   "id": "962c2d163b38a3ca",
   "execution_count": 23
  },
  {
   "cell_type": "code",
   "outputs": [],
   "source": [
    "########## Sieve of Eratosthenes - find all the prime numbers until the given input number ########"
   ],
   "metadata": {
    "collapsed": false
   },
   "id": "7d9ffa0810f77762"
  },
  {
   "cell_type": "code",
   "outputs": [
    {
     "name": "stdout",
     "output_type": "stream",
     "text": [
      "2\n",
      "3\n",
      "5\n",
      "7\n",
      "11\n",
      "13\n",
      "17\n",
      "19\n"
     ]
    }
   ],
   "source": [
    "def SieveOfEratosthenes(num):\n",
    "    # Initialize a list of boolean values representing the primality of each number up to num\n",
    "    # Initially, all numbers are assumed to be prime (True)\n",
    "    prime = [True for i in range(num+1)]\n",
    "    p = 2  # Start with the first prime number\n",
    "    \n",
    "    # Continue the loop until p squared is greater than num\n",
    "    while (p * p <= num):\n",
    "        # If prime[p] is not changed, then it is a prime\n",
    "        if (prime[p] == True):\n",
    "            # Update all multiples of p as not prime\n",
    "            for i in range(p * p, num+1, p):\n",
    "                prime[i] = False\n",
    "        p += 1  # Move to the next number\n",
    "        \n",
    "    # Print all prime numbers by checking the primality list\n",
    "    for p in range(2, num+1):\n",
    "        if prime[p]:  # If the number is marked as True, it's prime\n",
    "            print(p)\n",
    "\n",
    "SieveOfEratosthenes(20)"
   ],
   "metadata": {
    "collapsed": false,
    "ExecuteTime": {
     "end_time": "2024-02-27T02:10:37.788547Z",
     "start_time": "2024-02-27T02:10:37.783465Z"
    }
   },
   "id": "f5f4957f313e1d70",
   "execution_count": 24
  },
  {
   "cell_type": "code",
   "outputs": [],
   "source": [
    "############ Computing Power ###############"
   ],
   "metadata": {
    "collapsed": false,
    "ExecuteTime": {
     "end_time": "2024-02-27T02:12:36.839936Z",
     "start_time": "2024-02-27T02:12:36.830137Z"
    }
   },
   "id": "b15c469af2a2894d",
   "execution_count": 25
  },
  {
   "cell_type": "code",
   "outputs": [
    {
     "data": {
      "text/plain": "8"
     },
     "execution_count": 26,
     "metadata": {},
     "output_type": "execute_result"
    }
   ],
   "source": [
    "# Efficient Approach\n",
    "def power(x, n):\n",
    "    # base case\n",
    "    if n == 0: return 1\n",
    "    \n",
    "    temp = power(x, n//2) # recursive call\n",
    "    temp = temp * temp\n",
    "    \n",
    "    if n % 2 == 0: return temp\n",
    "    else: return temp * x\n",
    "    \n",
    "power(2, 3)"
   ],
   "metadata": {
    "collapsed": false,
    "ExecuteTime": {
     "end_time": "2024-02-27T02:19:00.921598Z",
     "start_time": "2024-02-27T02:19:00.895905Z"
    }
   },
   "id": "674321c85d6eaf2d",
   "execution_count": 26
  },
  {
   "cell_type": "code",
   "outputs": [],
   "source": [
    "############## Iterative Power (Binary Exponentiation) ########"
   ],
   "metadata": {
    "collapsed": false,
    "ExecuteTime": {
     "end_time": "2024-02-27T02:23:10.025629Z",
     "start_time": "2024-02-27T02:23:10.019005Z"
    }
   },
   "id": "674c2c525b306814",
   "execution_count": 27
  },
  {
   "cell_type": "code",
   "outputs": [
    {
     "name": "stdout",
     "output_type": "stream",
     "text": [
      "125\n"
     ]
    }
   ],
   "source": [
    "def power_bit(x, n) -> int:\n",
    "    res = 1\n",
    "    \n",
    "    while n > 0:\n",
    "        if n % 2 != 0:\n",
    "            res = res * x # if the current bit set then multiply current x value to the result\n",
    "        x = x * x # regardless of current bit x to be multiplied by x for this current iteration\n",
    "        n = n // 2 # to get the current bit\n",
    "    return res\n",
    "\n",
    "print(power_bit(5, 3))"
   ],
   "metadata": {
    "collapsed": false,
    "ExecuteTime": {
     "end_time": "2024-02-27T02:26:03.759820Z",
     "start_time": "2024-02-27T02:26:03.749628Z"
    }
   },
   "id": "ea4722f96b3e789e",
   "execution_count": 28
  },
  {
   "cell_type": "code",
   "outputs": [],
   "source": [],
   "metadata": {
    "collapsed": false
   },
   "id": "5a5a20d835699a7"
  }
 ],
 "metadata": {
  "kernelspec": {
   "display_name": "Python 3",
   "language": "python",
   "name": "python3"
  },
  "language_info": {
   "codemirror_mode": {
    "name": "ipython",
    "version": 2
   },
   "file_extension": ".py",
   "mimetype": "text/x-python",
   "name": "python",
   "nbconvert_exporter": "python",
   "pygments_lexer": "ipython2",
   "version": "2.7.6"
  }
 },
 "nbformat": 4,
 "nbformat_minor": 5
}
